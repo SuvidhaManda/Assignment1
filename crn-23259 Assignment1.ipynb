{
 "cells": [
  {
   "cell_type": "code",
   "execution_count": 1,
   "id": "3fce8c58",
   "metadata": {},
   "outputs": [
    {
     "name": "stdout",
     "output_type": "stream",
     "text": [
      "hi\n"
     ]
    }
   ],
   "source": [
    "print(\"hi\")"
   ]
  },
  {
   "cell_type": "code",
   "execution_count": 5,
   "id": "9f4c7371",
   "metadata": {},
   "outputs": [
    {
     "name": "stdout",
     "output_type": "stream",
     "text": [
      "python\n",
      "htyp\n"
     ]
    }
   ],
   "source": [
    "str=input()\n",
    "new_str=str[3::-1]\n",
    "print(new_str)"
   ]
  },
  {
   "cell_type": "code",
   "execution_count": 6,
   "id": "e4357524",
   "metadata": {},
   "outputs": [
    {
     "name": "stdout",
     "output_type": "stream",
     "text": [
      "50\n",
      "5\n",
      "Sum of 2 numbers num1 + num2 =  55\n",
      "Subtraction of 2 numbers num1 - num2 =  45\n",
      "Modulo of 2 numbers num1 % num2 =  0\n",
      "Division of 2 numbers num1 / num2 =  10.0\n"
     ]
    }
   ],
   "source": [
    "num1=int(input())\n",
    "num2=int(input())\n",
    "print(\"Sum of 2 numbers num1 + num2 = \",(num1+num2))\n",
    "print(\"Subtraction of 2 numbers num1 - num2 = \",(num1-num2))\n",
    "print(\"Modulo of 2 numbers num1 % num2 = \",(num1%num2))\n",
    "print(\"Division of 2 numbers num1 / num2 = \",(num1/num2))"
   ]
  },
  {
   "cell_type": "code",
   "execution_count": 8,
   "id": "930f4680",
   "metadata": {},
   "outputs": [
    {
     "name": "stdout",
     "output_type": "stream",
     "text": [
      "python is a language\n",
      "pythons is a language\n"
     ]
    }
   ],
   "source": [
    "str=input()\n",
    "str_replace=str.replace(\"python\",\"pythons\")\n",
    "print(str_replace)\n"
   ]
  },
  {
   "cell_type": "code",
   "execution_count": 15,
   "id": "205e2ffc",
   "metadata": {},
   "outputs": [
    {
     "name": "stdout",
     "output_type": "stream",
     "text": [
      "33\n",
      "F score\n"
     ]
    }
   ],
   "source": [
    "score=int(input())\n",
    "if(score>=90 and score<100):\n",
    "    print(\"A score\")\n",
    "elif(score>=80 and score<89):\n",
    "    print(\"B score\")\n",
    "elif(score>=70 and score<79):\n",
    "    print(\"C score\")\n",
    "elif(score>=60 and score<69):\n",
    "    print(\"D score\")\n",
    "else:\n",
    "    print(\"F score\")"
   ]
  },
  {
   "cell_type": "code",
   "execution_count": null,
   "id": "e6b1c3af",
   "metadata": {},
   "outputs": [],
   "source": []
  },
  {
   "cell_type": "code",
   "execution_count": null,
   "id": "688f96cb",
   "metadata": {},
   "outputs": [],
   "source": []
  }
 ],
 "metadata": {
  "kernelspec": {
   "display_name": "Python 3 (ipykernel)",
   "language": "python",
   "name": "python3"
  },
  "language_info": {
   "codemirror_mode": {
    "name": "ipython",
    "version": 3
   },
   "file_extension": ".py",
   "mimetype": "text/x-python",
   "name": "python",
   "nbconvert_exporter": "python",
   "pygments_lexer": "ipython3",
   "version": "3.9.12"
  }
 },
 "nbformat": 4,
 "nbformat_minor": 5
}
